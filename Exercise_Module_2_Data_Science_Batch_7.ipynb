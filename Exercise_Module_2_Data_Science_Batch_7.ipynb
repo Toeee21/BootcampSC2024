{
  "nbformat": 4,
  "nbformat_minor": 0,
  "metadata": {
    "colab": {
      "provenance": []
    },
    "kernelspec": {
      "name": "python3",
      "display_name": "Python 3"
    },
    "language_info": {
      "name": "python"
    }
  },
  "cells": [
    {
      "cell_type": "markdown",
      "source": [
        "#**Module 2: Data Preprocessing**"
      ],
      "metadata": {
        "id": "Da59Q4oEzHOy"
      }
    },
    {
      "cell_type": "markdown",
      "source": [
        "##**Importing Libraries**"
      ],
      "metadata": {
        "id": "Lwy5dLWMuFiM"
      }
    },
    {
      "cell_type": "code",
      "execution_count": null,
      "metadata": {
        "id": "N3AQ15nVqE1u"
      },
      "outputs": [],
      "source": [
        "%matplotlib inline\n",
        "import numpy as np\n",
        "import pandas as pd\n",
        "import matplotlib.pyplot as plt\n",
        "import seaborn as sns\n",
        "import plotly.express as px\n",
        "from pandas_profiling import ProfileReport\n",
        "from plotly.offline import iplot\n",
        "!pip install joypy\n",
        "import joypy\n",
        "import os\n",
        "import glob\n",
        "from sklearn.cluster import KMeans\n",
        "\n",
        "plt.rcParams['figure.figsize'] = 8, 5\n",
        "plt.style.use(\"fivethirtyeight\")"
      ]
    },
    {
      "cell_type": "markdown",
      "source": [
        "##**Importing Dataset**"
      ],
      "metadata": {
        "id": "Zr7AU6hZuV9J"
      }
    },
    {
      "cell_type": "markdown",
      "source": [
        "Download Dataset pada: [https://bit.ly/SC7DS_DatasetExercise](https://bit.ly/SC7DS_DatasetExercise)"
      ],
      "metadata": {
        "id": "QvOiyBXYNF_S"
      }
    },
    {
      "cell_type": "markdown",
      "source": [
        "Run code di bawah untuk upload file, lalu choose file penguins_lter.csv dan penguins_size.csv"
      ],
      "metadata": {
        "id": "ZVp6Z5LHtYU9"
      }
    },
    {
      "cell_type": "code",
      "source": [
        "from google.colab import files\n",
        "uploaded = files.upload()"
      ],
      "metadata": {
        "colab": {
          "base_uri": "https://localhost:8080/",
          "height": 108
        },
        "id": "lrvitLqrD1AU",
        "outputId": "6848686b-fb55-4e3d-e47f-92faaf30587e"
      },
      "execution_count": null,
      "outputs": [
        {
          "output_type": "display_data",
          "data": {
            "text/plain": [
              "<IPython.core.display.HTML object>"
            ],
            "text/html": [
              "\n",
              "     <input type=\"file\" id=\"files-5cbf5b68-a0f0-4383-bec3-d2c558411b09\" name=\"files[]\" multiple disabled\n",
              "        style=\"border:none\" />\n",
              "     <output id=\"result-5cbf5b68-a0f0-4383-bec3-d2c558411b09\">\n",
              "      Upload widget is only available when the cell has been executed in the\n",
              "      current browser session. Please rerun this cell to enable.\n",
              "      </output>\n",
              "      <script>// Copyright 2017 Google LLC\n",
              "//\n",
              "// Licensed under the Apache License, Version 2.0 (the \"License\");\n",
              "// you may not use this file except in compliance with the License.\n",
              "// You may obtain a copy of the License at\n",
              "//\n",
              "//      http://www.apache.org/licenses/LICENSE-2.0\n",
              "//\n",
              "// Unless required by applicable law or agreed to in writing, software\n",
              "// distributed under the License is distributed on an \"AS IS\" BASIS,\n",
              "// WITHOUT WARRANTIES OR CONDITIONS OF ANY KIND, either express or implied.\n",
              "// See the License for the specific language governing permissions and\n",
              "// limitations under the License.\n",
              "\n",
              "/**\n",
              " * @fileoverview Helpers for google.colab Python module.\n",
              " */\n",
              "(function(scope) {\n",
              "function span(text, styleAttributes = {}) {\n",
              "  const element = document.createElement('span');\n",
              "  element.textContent = text;\n",
              "  for (const key of Object.keys(styleAttributes)) {\n",
              "    element.style[key] = styleAttributes[key];\n",
              "  }\n",
              "  return element;\n",
              "}\n",
              "\n",
              "// Max number of bytes which will be uploaded at a time.\n",
              "const MAX_PAYLOAD_SIZE = 100 * 1024;\n",
              "\n",
              "function _uploadFiles(inputId, outputId) {\n",
              "  const steps = uploadFilesStep(inputId, outputId);\n",
              "  const outputElement = document.getElementById(outputId);\n",
              "  // Cache steps on the outputElement to make it available for the next call\n",
              "  // to uploadFilesContinue from Python.\n",
              "  outputElement.steps = steps;\n",
              "\n",
              "  return _uploadFilesContinue(outputId);\n",
              "}\n",
              "\n",
              "// This is roughly an async generator (not supported in the browser yet),\n",
              "// where there are multiple asynchronous steps and the Python side is going\n",
              "// to poll for completion of each step.\n",
              "// This uses a Promise to block the python side on completion of each step,\n",
              "// then passes the result of the previous step as the input to the next step.\n",
              "function _uploadFilesContinue(outputId) {\n",
              "  const outputElement = document.getElementById(outputId);\n",
              "  const steps = outputElement.steps;\n",
              "\n",
              "  const next = steps.next(outputElement.lastPromiseValue);\n",
              "  return Promise.resolve(next.value.promise).then((value) => {\n",
              "    // Cache the last promise value to make it available to the next\n",
              "    // step of the generator.\n",
              "    outputElement.lastPromiseValue = value;\n",
              "    return next.value.response;\n",
              "  });\n",
              "}\n",
              "\n",
              "/**\n",
              " * Generator function which is called between each async step of the upload\n",
              " * process.\n",
              " * @param {string} inputId Element ID of the input file picker element.\n",
              " * @param {string} outputId Element ID of the output display.\n",
              " * @return {!Iterable<!Object>} Iterable of next steps.\n",
              " */\n",
              "function* uploadFilesStep(inputId, outputId) {\n",
              "  const inputElement = document.getElementById(inputId);\n",
              "  inputElement.disabled = false;\n",
              "\n",
              "  const outputElement = document.getElementById(outputId);\n",
              "  outputElement.innerHTML = '';\n",
              "\n",
              "  const pickedPromise = new Promise((resolve) => {\n",
              "    inputElement.addEventListener('change', (e) => {\n",
              "      resolve(e.target.files);\n",
              "    });\n",
              "  });\n",
              "\n",
              "  const cancel = document.createElement('button');\n",
              "  inputElement.parentElement.appendChild(cancel);\n",
              "  cancel.textContent = 'Cancel upload';\n",
              "  const cancelPromise = new Promise((resolve) => {\n",
              "    cancel.onclick = () => {\n",
              "      resolve(null);\n",
              "    };\n",
              "  });\n",
              "\n",
              "  // Wait for the user to pick the files.\n",
              "  const files = yield {\n",
              "    promise: Promise.race([pickedPromise, cancelPromise]),\n",
              "    response: {\n",
              "      action: 'starting',\n",
              "    }\n",
              "  };\n",
              "\n",
              "  cancel.remove();\n",
              "\n",
              "  // Disable the input element since further picks are not allowed.\n",
              "  inputElement.disabled = true;\n",
              "\n",
              "  if (!files) {\n",
              "    return {\n",
              "      response: {\n",
              "        action: 'complete',\n",
              "      }\n",
              "    };\n",
              "  }\n",
              "\n",
              "  for (const file of files) {\n",
              "    const li = document.createElement('li');\n",
              "    li.append(span(file.name, {fontWeight: 'bold'}));\n",
              "    li.append(span(\n",
              "        `(${file.type || 'n/a'}) - ${file.size} bytes, ` +\n",
              "        `last modified: ${\n",
              "            file.lastModifiedDate ? file.lastModifiedDate.toLocaleDateString() :\n",
              "                                    'n/a'} - `));\n",
              "    const percent = span('0% done');\n",
              "    li.appendChild(percent);\n",
              "\n",
              "    outputElement.appendChild(li);\n",
              "\n",
              "    const fileDataPromise = new Promise((resolve) => {\n",
              "      const reader = new FileReader();\n",
              "      reader.onload = (e) => {\n",
              "        resolve(e.target.result);\n",
              "      };\n",
              "      reader.readAsArrayBuffer(file);\n",
              "    });\n",
              "    // Wait for the data to be ready.\n",
              "    let fileData = yield {\n",
              "      promise: fileDataPromise,\n",
              "      response: {\n",
              "        action: 'continue',\n",
              "      }\n",
              "    };\n",
              "\n",
              "    // Use a chunked sending to avoid message size limits. See b/62115660.\n",
              "    let position = 0;\n",
              "    do {\n",
              "      const length = Math.min(fileData.byteLength - position, MAX_PAYLOAD_SIZE);\n",
              "      const chunk = new Uint8Array(fileData, position, length);\n",
              "      position += length;\n",
              "\n",
              "      const base64 = btoa(String.fromCharCode.apply(null, chunk));\n",
              "      yield {\n",
              "        response: {\n",
              "          action: 'append',\n",
              "          file: file.name,\n",
              "          data: base64,\n",
              "        },\n",
              "      };\n",
              "\n",
              "      let percentDone = fileData.byteLength === 0 ?\n",
              "          100 :\n",
              "          Math.round((position / fileData.byteLength) * 100);\n",
              "      percent.textContent = `${percentDone}% done`;\n",
              "\n",
              "    } while (position < fileData.byteLength);\n",
              "  }\n",
              "\n",
              "  // All done.\n",
              "  yield {\n",
              "    response: {\n",
              "      action: 'complete',\n",
              "    }\n",
              "  };\n",
              "}\n",
              "\n",
              "scope.google = scope.google || {};\n",
              "scope.google.colab = scope.google.colab || {};\n",
              "scope.google.colab._files = {\n",
              "  _uploadFiles,\n",
              "  _uploadFilesContinue,\n",
              "};\n",
              "})(self);\n",
              "</script> "
            ]
          },
          "metadata": {}
        },
        {
          "output_type": "stream",
          "name": "stdout",
          "text": [
            "Saving penguins_lter.csv to penguins_lter (1).csv\n",
            "Saving penguins_size.csv to penguins_size (1).csv\n"
          ]
        }
      ]
    },
    {
      "cell_type": "code",
      "source": [
        "import io\n",
        "data = pd.read_csv(io.BytesIO(uploaded['penguins_size.csv']))\n",
        "study_data = pd.read_csv(io.BytesIO(uploaded['penguins_lter.csv']))"
      ],
      "metadata": {
        "id": "1hIJK8vPuw1X"
      },
      "execution_count": null,
      "outputs": []
    },
    {
      "cell_type": "markdown",
      "source": [
        "Memanggil tabel data"
      ],
      "metadata": {
        "id": "FbhMqBWyxh1X"
      }
    },
    {
      "cell_type": "code",
      "source": [
        "data"
      ],
      "metadata": {
        "id": "nBixCuGWxd5w"
      },
      "execution_count": null,
      "outputs": []
    },
    {
      "cell_type": "markdown",
      "source": [
        "##**Describing Dataset**"
      ],
      "metadata": {
        "id": "aRIqk71Iv1lS"
      }
    },
    {
      "cell_type": "markdown",
      "source": [
        "Tampilkan statistik deskriptif dari data!"
      ],
      "metadata": {
        "id": "v8oysVjQt7hl"
      }
    },
    {
      "cell_type": "code",
      "source": [
        "#input your code here"
      ],
      "metadata": {
        "id": "qdcIlHBuw_JE"
      },
      "execution_count": null,
      "outputs": []
    },
    {
      "cell_type": "markdown",
      "source": [
        "***\n",
        "**Insight**\n",
        "***\n",
        "Berapa rata - rata body mass penguin?"
      ],
      "metadata": {
        "id": "v4L5jm9CuJxp"
      }
    },
    {
      "cell_type": "markdown",
      "source": [
        "##**Handling Missing Values**"
      ],
      "metadata": {
        "id": "T2rWuQDOHmLH"
      }
    },
    {
      "cell_type": "markdown",
      "source": [
        "Cek jumlah missing value!"
      ],
      "metadata": {
        "id": "98gGF7w9Iw3E"
      }
    },
    {
      "cell_type": "code",
      "source": [
        "#input your code here"
      ],
      "metadata": {
        "id": "ogz85QPeHrqH"
      },
      "execution_count": null,
      "outputs": []
    },
    {
      "cell_type": "markdown",
      "source": [
        "Drop missing value pada culmen_length_mm, culmen_depth_mm, flipper_length_mm, body_mass_g!"
      ],
      "metadata": {
        "id": "cfFMeTNXI6Sq"
      }
    },
    {
      "cell_type": "code",
      "source": [
        "#input your code here"
      ],
      "metadata": {
        "id": "fwiiT66JH4nO"
      },
      "execution_count": null,
      "outputs": []
    },
    {
      "cell_type": "markdown",
      "source": [
        "Mengisi missing value pada sex dengan modus!"
      ],
      "metadata": {
        "id": "lgdV2N8xJBAc"
      }
    },
    {
      "cell_type": "code",
      "source": [
        "#input your code here"
      ],
      "metadata": {
        "id": "OSljh4YmH77m"
      },
      "execution_count": null,
      "outputs": []
    },
    {
      "cell_type": "markdown",
      "source": [
        "Pada baris ke 336 kolom sex, terdapat data berisi titik (.), drop baris data tersebut!"
      ],
      "metadata": {
        "id": "DxHkuWVJJF3E"
      }
    },
    {
      "cell_type": "code",
      "source": [
        "#input your code here"
      ],
      "metadata": {
        "id": "gvX_bMHsH-Bc"
      },
      "execution_count": null,
      "outputs": []
    },
    {
      "cell_type": "markdown",
      "source": [
        "Cek kembali apakah masih ada missing value!"
      ],
      "metadata": {
        "id": "3VTVWtfTJKZM"
      }
    },
    {
      "cell_type": "code",
      "source": [
        "#input your code here"
      ],
      "metadata": {
        "id": "_JJMoRZ1H_wi"
      },
      "execution_count": null,
      "outputs": []
    },
    {
      "cell_type": "markdown",
      "source": [
        "***\n",
        "**Insight**\n",
        "***\n",
        "Apakah masih terdapat missing value?"
      ],
      "metadata": {
        "id": "5fm_JIiGxV7F"
      }
    },
    {
      "cell_type": "markdown",
      "source": [
        "##**Exploratory Data Analysis**"
      ],
      "metadata": {
        "id": "7Sqh9pLRxIuM"
      }
    },
    {
      "cell_type": "markdown",
      "source": [
        "Tampilkan grafik yang menunjukkan jumlah tiap spesies pinguin!"
      ],
      "metadata": {
        "id": "e-7oBcM9xz6d"
      }
    },
    {
      "cell_type": "code",
      "source": [
        "#input your code here"
      ],
      "metadata": {
        "id": "kTcGkWeVG0zU"
      },
      "execution_count": null,
      "outputs": []
    },
    {
      "cell_type": "markdown",
      "source": [
        "***\n",
        "**Insight**\n",
        "***\n",
        "Spesies apa dengan jumlah pinguin paling banyak?"
      ],
      "metadata": {
        "id": "XuovbQvPNd-n"
      }
    },
    {
      "cell_type": "markdown",
      "source": [
        "Tampilkan scatterplot yang menunjukkan korelasi antara culmen_length dan flipper_length!"
      ],
      "metadata": {
        "id": "7-P1ktGz-ln0"
      }
    },
    {
      "cell_type": "code",
      "source": [
        "#input your code here"
      ],
      "metadata": {
        "id": "KgpAd3YY-3ia"
      },
      "execution_count": null,
      "outputs": []
    },
    {
      "cell_type": "markdown",
      "source": [
        "***\n",
        "**Insight**\n",
        "***\n",
        "Bagaimana korelasi antara culmen_length dan flipper_length?"
      ],
      "metadata": {
        "id": "x-KTrLDI-6wS"
      }
    },
    {
      "cell_type": "markdown",
      "source": [
        "Tampilkan scatterplot yang menunjukkan korelasi antara flipper_length dan body_mass!"
      ],
      "metadata": {
        "id": "noLe0Tge--q6"
      }
    },
    {
      "cell_type": "code",
      "source": [
        "#input your code here"
      ],
      "metadata": {
        "id": "sp3STFtv_F40"
      },
      "execution_count": null,
      "outputs": []
    },
    {
      "cell_type": "markdown",
      "source": [
        "***\n",
        "**Insight**\n",
        "***\n",
        "Bagaimana korelasi antara flipper_length dan body_mass?"
      ],
      "metadata": {
        "id": "ENrNBJuW_JQc"
      }
    },
    {
      "cell_type": "markdown",
      "source": [
        "Tampilkan pairplot dari semua variabel!"
      ],
      "metadata": {
        "id": "4-T4OTTK_OKK"
      }
    },
    {
      "cell_type": "code",
      "source": [
        "#input your code here"
      ],
      "metadata": {
        "id": "Bij51Znn_xuj"
      },
      "execution_count": null,
      "outputs": []
    },
    {
      "cell_type": "markdown",
      "source": [
        "***\n",
        "**Insight**\n",
        "***\n",
        "Apa kesimpulan yang dapat kamu ambil dari pairplot di atas?"
      ],
      "metadata": {
        "id": "L14fKeun_3rz"
      }
    }
  ]
}